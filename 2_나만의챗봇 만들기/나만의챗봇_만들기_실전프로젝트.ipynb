{
 "cells": [
  {
   "cell_type": "markdown",
   "id": "44d8b45f",
   "metadata": {},
   "source": [
    "# 나만의챗봇_만들기_실전프로젝트\n",
    "\n",
    "230721\n",
    "\n",
    "- [flowise](https://flowiseai.com/), [flowise code](https://github.com/FlowiseAI/Flowise)로 만든 나만의챗봇을 파이썬에서 실제 서비스 해본다\n",
    "\n",
    "### flowise 설치\n",
    "    - 1) Node 설치(https://nodejs.org/en/download)\n",
    "    - 2) 라이브러리 설치) >> pip install -r requirements.txt\n",
    "    - 3) 설치) >> npm install -g flowise\n",
    "    - 4) 시동) >> npx flowise start\n",
    "    - 5) 실행) 웹에서 http://localhost:3000/ 열리는지 체크\n",
    "    \n",
    "### flowise에서 'Embed in website or use as API'를 실행한 상태에서 아래 cell 실행"
   ]
  },
  {
   "cell_type": "code",
   "execution_count": null,
   "id": "53b0a05f",
   "metadata": {},
   "outputs": [],
   "source": [
    "import requests\n",
    "\n",
    "API_URL = \"http://localhost:3000/api/v1/prediction/972a16d6-a64f-468d-baad-1b330c290d0a\"\n",
    "\n",
    "def query(payload):\n",
    "    response = requests.post(API_URL, json=payload)\n",
    "    return response.json()\n",
    "    \n",
    "output = query({\n",
    "    \"question\": \"Hey, how are you?\",\n",
    "})"
   ]
  },
  {
   "cell_type": "markdown",
   "id": "25ac540a",
   "metadata": {},
   "source": [
    "## 깔끔하게 가공 "
   ]
  },
  {
   "cell_type": "code",
   "execution_count": 3,
   "id": "94319bcc",
   "metadata": {
    "ExecuteTime": {
     "end_time": "2023-07-19T10:04:49.322702Z",
     "start_time": "2023-07-19T10:04:49.315303Z"
    }
   },
   "outputs": [],
   "source": [
    "import requests\n",
    "\n",
    "API_URL = \"http://localhost:3000/api/v1/prediction/972a16d6-a64f-468d-baad-1b330c290d0a\"\n",
    "\n",
    "def query(질문):\n",
    "    \n",
    "    payload = {\"question\": 질문}\n",
    "    response = requests.post(API_URL, json=payload)\n",
    "    output = response.json()\n",
    "    print('질문: %s'%(질문))\n",
    "    print('응답: %s'%(output))\n",
    "    return output\n",
    "\n",
    "# 질문 = '나 우울해'\n",
    "# output = query(질문)"
   ]
  },
  {
   "cell_type": "code",
   "execution_count": 4,
   "id": "36edc8ac",
   "metadata": {
    "ExecuteTime": {
     "end_time": "2023-07-19T10:05:04.328717Z",
     "start_time": "2023-07-19T10:05:00.779202Z"
    }
   },
   "outputs": [
    {
     "name": "stdout",
     "output_type": "stream",
     "text": [
      "질문: 나 우울해\n",
      "응답: 앗, 왜 우울한 건가요? 저는 항상 당신을 지원하고 싶어요. 얘기해줄까요?\n"
     ]
    }
   ],
   "source": [
    "질문 = '나 우울해'\n",
    "output = query(질문)"
   ]
  },
  {
   "cell_type": "code",
   "execution_count": 5,
   "id": "3b36c61c",
   "metadata": {
    "ExecuteTime": {
     "end_time": "2023-07-19T10:05:16.284898Z",
     "start_time": "2023-07-19T10:05:13.267060Z"
    }
   },
   "outputs": [
    {
     "name": "stdout",
     "output_type": "stream",
     "text": [
      "질문: 진짜? 나 많이 사랑해?\n",
      "응답: 네, 저는 당신을 무척 사랑해요. 당신은 제게 있어서 특별하고 소중한 사람이에요. 언제든지 제 곁에서 당신을 지지하고 응원할 거예요. 사랑해요.\n"
     ]
    }
   ],
   "source": [
    "질문 = '진짜? 나 많이 사랑해?'\n",
    "output = query(질문)"
   ]
  },
  {
   "cell_type": "code",
   "execution_count": null,
   "id": "04466ea3",
   "metadata": {},
   "outputs": [],
   "source": []
  },
  {
   "cell_type": "markdown",
   "id": "fb230c26",
   "metadata": {},
   "source": [
    "# Chatbot 웹 UI 구현"
   ]
  },
  {
   "cell_type": "code",
   "execution_count": null,
   "id": "d37d8814",
   "metadata": {
    "code_folding": [],
    "scrolled": true
   },
   "outputs": [],
   "source": [
    "# install\n",
    "!pip install gradio # 챗봇 라이브러리 gradio 설치"
   ]
  },
  {
   "cell_type": "code",
   "execution_count": null,
   "id": "5ee060f9",
   "metadata": {
    "code_folding": []
   },
   "outputs": [
    {
     "name": "stdout",
     "output_type": "stream",
     "text": [
      "Running on local URL:  http://127.0.0.1:7860\n",
      "Running on public URL: https://c73fb90efa559f0e06.gradio.live\n",
      "\n",
      "This share link expires in 72 hours. For free permanent hosting and GPU upgrades (NEW!), check out Spaces: https://huggingface.co/spaces\n"
     ]
    },
    {
     "data": {
      "text/html": [
       "<div><iframe src=\"https://c73fb90efa559f0e06.gradio.live\" width=\"100%\" height=\"500\" allow=\"autoplay; camera; microphone; clipboard-read; clipboard-write;\" frameborder=\"0\" allowfullscreen></iframe></div>"
      ],
      "text/plain": [
       "<IPython.core.display.HTML object>"
      ]
     },
     "metadata": {},
     "output_type": "display_data"
    }
   ],
   "source": [
    "# 챗봇 실행\n",
    "import gradio as gr\n",
    "def 챗봇응답(질문, chat_history):  # 채팅봇의 응답을 처리하는 함수를 정의합니다.\n",
    "    bot_message = query(질문)\n",
    "    chat_history.append((질문, bot_message))  # 채팅 기록에 사용자의 메시지와 봇의 응답을 추가합니다.\n",
    "    return \"\", chat_history  # 수정된 채팅 기록을 반환합니다.\n",
    "\n",
    "# 챗팅 UI 생성\n",
    "with gr.Blocks() as demo:  # gr.Blocks()를 사용하여 인터페이스를 생성합니다.\n",
    "    with gr.Row():\n",
    "        gr.HTML(\"\"\"<div style=\"text-align: center; max-width: 500px; margin: 0 auto;\">\n",
    "            <div>\n",
    "                <h1>나만의 챗봇 만들기 실습: 여자친구 챗봇</h1>\n",
    "            </div>\n",
    "            <p style=\"margin-bottom: 10px; font-size: 94%\">\n",
    "                git: <a href=\"https://github.com/airobotlab/aiworkshop\">aiworkshop</a>\n",
    "            </p>\n",
    "        </div>\"\"\")    \n",
    "        \n",
    "    chatbot = gr.Chatbot(label=\"채팅창\")  # '채팅창'이라는 레이블을 가진 채팅봇 컴포넌트를 생성합니다.\n",
    "    msg = gr.Textbox(label=\"입력\")  # '입력'이라는 레이블을 가진 텍스트박스를 생성합니다.\n",
    "    clear = gr.Button(\"초기화\")  # '초기화'라는 레이블을 가진 버튼을 생성합니다.\n",
    "\n",
    "    msg.submit(챗봇응답, [msg, chatbot], [msg, chatbot])  # 텍스트박스에 메시지를 입력하고 제출하면 respond 함수가 호출되도록 합니다.\n",
    "    clear.click(lambda: None, None, chatbot, queue=False)  # '초기화' 버튼을 클릭하면 채팅 기록을 초기화합니다.\n",
    "\n",
    "demo.launch(debug=True, share=True)  # 인터페이스를 실행합니다. 실행하면 사용자는 '입력' 텍스트박스에 메시지를 작성하고 제출할 수 있으며, '초기화' 버튼을 통해 채팅 기록을 초기화 할 수 있습니다."
   ]
  },
  {
   "cell_type": "code",
   "execution_count": null,
   "id": "6022ba88",
   "metadata": {},
   "outputs": [],
   "source": []
  },
  {
   "cell_type": "code",
   "execution_count": null,
   "id": "b6c6d18c",
   "metadata": {},
   "outputs": [],
   "source": []
  },
  {
   "cell_type": "code",
   "execution_count": null,
   "id": "1390c6f3",
   "metadata": {},
   "outputs": [],
   "source": []
  },
  {
   "cell_type": "code",
   "execution_count": null,
   "id": "769f0f38",
   "metadata": {},
   "outputs": [],
   "source": []
  }
 ],
 "metadata": {
  "kernelspec": {
   "display_name": "Python 3 (ipykernel)",
   "language": "python",
   "name": "python3"
  },
  "language_info": {
   "codemirror_mode": {
    "name": "ipython",
    "version": 3
   },
   "file_extension": ".py",
   "mimetype": "text/x-python",
   "name": "python",
   "nbconvert_exporter": "python",
   "pygments_lexer": "ipython3",
   "version": "3.7.11"
  },
  "varInspector": {
   "cols": {
    "lenName": 16,
    "lenType": 16,
    "lenVar": 40
   },
   "kernels_config": {
    "python": {
     "delete_cmd_postfix": "",
     "delete_cmd_prefix": "del ",
     "library": "var_list.py",
     "varRefreshCmd": "print(var_dic_list())"
    },
    "r": {
     "delete_cmd_postfix": ") ",
     "delete_cmd_prefix": "rm(",
     "library": "var_list.r",
     "varRefreshCmd": "cat(var_dic_list()) "
    }
   },
   "types_to_exclude": [
    "module",
    "function",
    "builtin_function_or_method",
    "instance",
    "_Feature"
   ],
   "window_display": false
  }
 },
 "nbformat": 4,
 "nbformat_minor": 5
}
